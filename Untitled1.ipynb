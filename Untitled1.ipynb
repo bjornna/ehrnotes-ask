{
 "cells": [
  {
   "cell_type": "code",
   "execution_count": 4,
   "metadata": {},
   "outputs": [
    {
     "name": "stdout",
     "output_type": "stream",
     "text": [
      "Loading SPACY with model=nb_core_news_sm from file=combined.jsonl\n",
      "Loading EntityRuler with patterns from file=combined.jsonl\n",
      "Loading custom patterns of size=18\n",
      "Finished loading SPACY\n"
     ]
    }
   ],
   "source": [
    "import spacy\n",
    "from spacy.tokens import Token, Doc\n",
    "from spacy import displacy\n",
    "from app.train import main\n",
    "from app.classifiy.main import HealthTokenizer\n",
    "\n",
    "nlp = main.load_spacy()\n"
   ]
  },
  {
   "cell_type": "code",
   "execution_count": 27,
   "metadata": {},
   "outputs": [],
   "source": [
    "class HealthTokenizer:\n",
    "    def __init__(self, doc: Doc):\n",
    "        super().__init__()\n",
    "        self.doc = doc\n",
    "\n",
    "    def tokenize(self):\n",
    "        for token in self.doc:\n",
    "            self.handle_token(token)\n",
    "\n",
    "\n",
    "    def handle_token(self, token: Token):\n",
    "        if token.ent_iob:\n",
    "            \"\"\"IOB code of named entity tag. \n",
    "            3 means the token begins an entity, \n",
    "            2 means it is outside an entity, \n",
    "            1 means it is inside an entity, and \n",
    "            0 means no entity tag is set.\"\"\"\n",
    "            print(f\"{token} is ENTITY {token.ent_iob} --> {token.ent_kb_id_}\")"
   ]
  },
  {
   "cell_type": "code",
   "execution_count": 35,
   "metadata": {},
   "outputs": [
    {
     "data": {
      "text/html": [
       "<div class=\"entities\" style=\"line-height: 2.5; direction: ltr\">\n",
       "<mark class=\"entity\" style=\"background: #ddd; padding: 0.45em 0.6em; margin: 0 0.25em; line-height: 1; border-radius: 0.35em;\">\n",
       "    BT\n",
       "    <span style=\"font-size: 0.8em; font-weight: bold; line-height: 1; border-radius: 0.35em; text-transform: uppercase; vertical-align: middle; margin-left: 0.5rem\">OBSERVATION</span>\n",
       "</mark>\n",
       ": 180 / 80 \n",
       "<mark class=\"entity\" style=\"background: #ddd; padding: 0.45em 0.6em; margin: 0 0.25em; line-height: 1; border-radius: 0.35em;\">\n",
       "    mmHg\n",
       "    <span style=\"font-size: 0.8em; font-weight: bold; line-height: 1; border-radius: 0.35em; text-transform: uppercase; vertical-align: middle; margin-left: 0.5rem\">UNIT</span>\n",
       "</mark>\n",
       ". \n",
       "<mark class=\"entity\" style=\"background: #ddd; padding: 0.45em 0.6em; margin: 0 0.25em; line-height: 1; border-radius: 0.35em;\">\n",
       "    Puls\n",
       "    <span style=\"font-size: 0.8em; font-weight: bold; line-height: 1; border-radius: 0.35em; text-transform: uppercase; vertical-align: middle; margin-left: 0.5rem\">OBSERVATION</span>\n",
       "</mark>\n",
       " : 44 . Redd for \n",
       "<mark class=\"entity\" style=\"background: #ddd; padding: 0.45em 0.6em; margin: 0 0.25em; line-height: 1; border-radius: 0.35em;\">\n",
       "    å dø\n",
       "    <span style=\"font-size: 0.8em; font-weight: bold; line-height: 1; border-radius: 0.35em; text-transform: uppercase; vertical-align: middle; margin-left: 0.5rem\">ICNP_F</span>\n",
       "</mark>\n",
       "</div>"
      ],
      "text/plain": [
       "<IPython.core.display.HTML object>"
      ]
     },
     "metadata": {},
     "output_type": "display_data"
    },
    {
     "name": "stdout",
     "output_type": "stream",
     "text": [
      "BT is ENTITY 3 --> \n",
      ": is ENTITY 2 --> \n",
      "180 is ENTITY 2 --> \n",
      "/ is ENTITY 2 --> \n",
      "80 is ENTITY 2 --> \n",
      "mmHg is ENTITY 3 --> \n",
      ". is ENTITY 2 --> \n",
      "Puls is ENTITY 3 --> \n",
      ": is ENTITY 2 --> \n",
      "44 is ENTITY 2 --> \n",
      ". is ENTITY 2 --> \n",
      "Redd is ENTITY 2 --> \n",
      "for is ENTITY 2 --> \n",
      "å is ENTITY 3 --> \n",
      "dø is ENTITY 1 --> \n"
     ]
    }
   ],
   "source": [
    "doc = nlp(\"BT: 180 / 80 mmHg. Puls : 44 . Redd for å dø\")\n",
    "displacy.render(doc, style=\"ent\") # dep | ent\n",
    "ht = HealthTokenizer(doc)\n",
    "ht.tokenize()\n",
    "\n"
   ]
  },
  {
   "cell_type": "code",
   "execution_count": 36,
   "metadata": {},
   "outputs": [
    {
     "name": "stdout",
     "output_type": "stream",
     "text": [
      "BT -->  False PROPN\n",
      ": -->  False PUNCT\n",
      "180 -->  True NUM\n",
      "/ -->  False SYM\n",
      "80 -->  True NUM\n",
      "mmHg -->  False NOUN\n",
      ". -->  False PUNCT\n",
      "Puls -->  False NOUN\n",
      ": -->  False PUNCT\n",
      "44 -->  True NUM\n",
      ". -->  False PUNCT\n",
      "Redd -->  False ADJ\n",
      "for -->  False ADP\n",
      "å -->  False PART\n",
      "dø -->  False VERB\n"
     ]
    }
   ],
   "source": [
    "for token in doc:\n",
    "    print(f\"{token} -->  {token.like_num} {token.pos_}\")"
   ]
  },
  {
   "cell_type": "code",
   "execution_count": 12,
   "metadata": {},
   "outputs": [
    {
     "name": "stdout",
     "output_type": "stream",
     "text": [
      "BT ROOT BT PROPN [:]\n",
      ": punct BT PROPN []\n",
      "180/80 nummod mmHg NOUN []\n",
      "mmHg ROOT mmHg NOUN [180/80, .]\n",
      ". punct mmHg NOUN []\n",
      "Puls ROOT Puls NOUN [:]\n",
      ": punct Puls NOUN []\n",
      "44 ROOT 44 NUM []\n"
     ]
    }
   ],
   "source": [
    "for token in doc:\n",
    "    print(token.text, token.dep_, token.head.text, token.head.pos_,\n",
    "            [child for child in token.children])"
   ]
  },
  {
   "cell_type": "code",
   "execution_count": 13,
   "metadata": {},
   "outputs": [
    {
     "name": "stdout",
     "output_type": "stream",
     "text": [
      "BT 0 2 OBSERVATION\n",
      "mmHg 11 15 UNIT\n",
      "Puls 17 21 OBSERVATION\n"
     ]
    }
   ],
   "source": [
    "for ent in doc.ents:\n",
    "    print(ent.text, ent.start_char, ent.end_char, ent.label_)"
   ]
  }
 ],
 "metadata": {
  "kernelspec": {
   "display_name": "Python 3",
   "language": "python",
   "name": "python3"
  },
  "language_info": {
   "codemirror_mode": {
    "name": "ipython",
    "version": 3
   },
   "file_extension": ".py",
   "mimetype": "text/x-python",
   "name": "python",
   "nbconvert_exporter": "python",
   "pygments_lexer": "ipython3",
   "version": "3.7.5"
  }
 },
 "nbformat": 4,
 "nbformat_minor": 4
}
