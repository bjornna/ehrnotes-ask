{
 "cells": [
  {
   "cell_type": "code",
   "execution_count": 1,
   "metadata": {},
   "outputs": [],
   "source": [
    "import spacy\n",
    "from spacy.pipeline import EntityRuler\n",
    "from spacy import displacy\n",
    "\n",
    "import main\n",
    "nlp = spacy.load('nb_core_news_sm')\n",
    "ruler = main.load_ruler_from_file(nlp, file=\"combined.jsonl\")\n",
    "patterns = [\n",
    "    {\"label\": \"LATERALITET\", \"pattern\": \"venstre\", \"id\": \"SIN\"}, \n",
    "    {\"label\": \"LATERALITET\", \"pattern\": \"høyre\", \"id\": \"DXT\"},\n",
    "    {\"label\": \"SYMPTOM\", \"pattern\": \"Smerte\", \"id\": \"PAIN\"},\n",
    "    {\"label\": \"OBSERVATION\", \"pattern\": \"BP\", \"id\": \"BLOOD_PRESSURE\"}, \n",
    "    {\"label\": \"OBSERVATION\", \"pattern\": \"BT\", \"id\": \"BLOOD_PRESSURE\"}, \n",
    "    {\"label\": \"OBSERVATION\", \"pattern\": \"puls\", \"id\": \"PULSE\"}, \n",
    "    {\"label\": \"OBSERVATION\", \"pattern\": \"temp\", \"id\": \"BODY_TEMP\"},\n",
    "        {\"label\": \"OBSERVATION\", \"pattern\": \"temperatur\", \"id\" : \"BODY_TEMP\"},\n",
    "     \n",
    "    {\"label\": \"LAB\", \"pattern\": \"hb\" ,\"id\":\"HB\"},\n",
    "    {\"label\": \"LAB\", \"pattern\": \"Hb\" ,\"id\":\"HB\"},\n",
    "    {\"label\": \"LAB\", \"pattern\": \"CRP\" ,\"id\":\"CRB\"}\n",
    "    \n",
    "           ]\n",
    "ruler.add_patterns(patterns)\n",
    "\n",
    "nlp.add_pipe(ruler)\n",
    "#nlp.to_disk(\"./mymodel\")\n",
    "\n",
    "\n"
   ]
  },
  {
   "cell_type": "code",
   "execution_count": 2,
   "metadata": {},
   "outputs": [],
   "source": [
    "def explore(doc):\n",
    "    print([(ent.text, ent.label_, ent.ent_id_) for ent in doc.ents])\n",
    "\n",
    "def emit(doc):\n",
    "    print(doc)\n",
    "\n",
    "def sentence(doc):\n",
    "    for sent in doc.sents:\n",
    "        print(sent.text)\n",
    "def noun_chunks(doc):\n",
    "    print(\"NOUN CHECKS - START\")\n",
    "    for chunk in doc.noun_chunks:\n",
    "        print(chunk.text, chunk.root.text, chunk.root.dep_, chunk.root.head.text)\n",
    "    print(\"NOUN CHECKS - END \")\n"
   ]
  },
  {
   "cell_type": "code",
   "execution_count": 3,
   "metadata": {},
   "outputs": [
    {
     "data": {
      "text/html": [
       "<div class=\"entities\" style=\"line-height: 2.5; direction: ltr\">\n",
       "<mark class=\"entity\" style=\"background: #ddd; padding: 0.45em 0.6em; margin: 0 0.25em; line-height: 1; border-radius: 0.35em;\">\n",
       "    Hoften\n",
       "    <span style=\"font-size: 0.8em; font-weight: bold; line-height: 1; border-radius: 0.35em; text-transform: uppercase; vertical-align: middle; margin-left: 0.5rem\">ANATOMY</span>\n",
       "</mark>\n",
       " er ute av \n",
       "<mark class=\"entity\" style=\"background: #ddd; padding: 0.45em 0.6em; margin: 0 0.25em; line-height: 1; border-radius: 0.35em;\">\n",
       "    ledd\n",
       "    <span style=\"font-size: 0.8em; font-weight: bold; line-height: 1; border-radius: 0.35em; text-transform: uppercase; vertical-align: middle; margin-left: 0.5rem\">ANATOMY</span>\n",
       "</mark>\n",
       " og det er smerter i \n",
       "<mark class=\"entity\" style=\"background: #ddd; padding: 0.45em 0.6em; margin: 0 0.25em; line-height: 1; border-radius: 0.35em;\">\n",
       "    bekkenet\n",
       "    <span style=\"font-size: 0.8em; font-weight: bold; line-height: 1; border-radius: 0.35em; text-transform: uppercase; vertical-align: middle; margin-left: 0.5rem\">ANATOMY</span>\n",
       "</mark>\n",
       ". Pasienten er redd for \n",
       "<mark class=\"entity\" style=\"background: #ddd; padding: 0.45em 0.6em; margin: 0 0.25em; line-height: 1; border-radius: 0.35em;\">\n",
       "    å dø\n",
       "    <span style=\"font-size: 0.8em; font-weight: bold; line-height: 1; border-radius: 0.35em; text-transform: uppercase; vertical-align: middle; margin-left: 0.5rem\">ICNP_F</span>\n",
       "</mark>\n",
       " . Pleier \n",
       "<mark class=\"entity\" style=\"background: #ddd; padding: 0.45em 0.6em; margin: 0 0.25em; line-height: 1; border-radius: 0.35em;\">\n",
       "    å være sosial\n",
       "    <span style=\"font-size: 0.8em; font-weight: bold; line-height: 1; border-radius: 0.35em; text-transform: uppercase; vertical-align: middle; margin-left: 0.5rem\">ICNP_F</span>\n",
       "</mark>\n",
       ". Kan det være \n",
       "<mark class=\"entity\" style=\"background: #ddd; padding: 0.45em 0.6em; margin: 0 0.25em; line-height: 1; border-radius: 0.35em;\">\n",
       "    alvorlig feilernæring\n",
       "    <span style=\"font-size: 0.8em; font-weight: bold; line-height: 1; border-radius: 0.35em; text-transform: uppercase; vertical-align: middle; margin-left: 0.5rem\">ICNP_F</span>\n",
       "</mark>\n",
       ". \n",
       "<mark class=\"entity\" style=\"background: #ddd; padding: 0.45em 0.6em; margin: 0 0.25em; line-height: 1; border-radius: 0.35em;\">\n",
       "    Allergi\n",
       "    <span style=\"font-size: 0.8em; font-weight: bold; line-height: 1; border-radius: 0.35em; text-transform: uppercase; vertical-align: middle; margin-left: 0.5rem\">ICNP_F</span>\n",
       "</mark>\n",
       " er ikke bra</div>"
      ],
      "text/plain": [
       "<IPython.core.display.HTML object>"
      ]
     },
     "metadata": {},
     "output_type": "display_data"
    },
    {
     "name": "stdout",
     "output_type": "stream",
     "text": [
      "[('Hoften', 'ANATOMY', '29836001'), ('ledd', 'ANATOMY', '39352004'), ('bekkenet', 'ANATOMY', '12921003'), ('å dø', 'ICNP_F', '10006403'), ('å være sosial', 'ICNP_F', '10018391'), ('alvorlig feilernæring', 'ICNP_F', '10011734'), ('Allergi', 'ICNP_F', '10041119')]\n"
     ]
    }
   ],
   "source": [
    "\n",
    "doc = nlp(\"Hoften er ute av ledd og det er smerter i bekkenet. Pasienten er redd for å dø . Pleier å være sosial. Kan det være alvorlig feilernæring. Allergi er ikke bra\")\n",
    "displacy.render(doc, style=\"ent\") # dep | ent\n",
    "explore(doc)\n",
    "#noun_chunks(doc)\n",
    "#spacy.explain(\"nsubj\")"
   ]
  },
  {
   "cell_type": "code",
   "execution_count": null,
   "metadata": {},
   "outputs": [],
   "source": []
  },
  {
   "cell_type": "code",
   "execution_count": 4,
   "metadata": {},
   "outputs": [
    {
     "data": {
      "text/html": [
       "<div class=\"entities\" style=\"line-height: 2.5; direction: ltr\">\n",
       "<mark class=\"entity\" style=\"background: #ddd; padding: 0.45em 0.6em; margin: 0 0.25em; line-height: 1; border-radius: 0.35em;\">\n",
       "    BT\n",
       "    <span style=\"font-size: 0.8em; font-weight: bold; line-height: 1; border-radius: 0.35em; text-transform: uppercase; vertical-align: middle; margin-left: 0.5rem\">OBSERVATION</span>\n",
       "</mark>\n",
       ": 140/60</br>\n",
       "<mark class=\"entity\" style=\"background: #ddd; padding: 0.45em 0.6em; margin: 0 0.25em; line-height: 1; border-radius: 0.35em;\">\n",
       "    Puls\n",
       "    <span style=\"font-size: 0.8em; font-weight: bold; line-height: 1; border-radius: 0.35em; text-transform: uppercase; vertical-align: middle; margin-left: 0.5rem\">GPE_LOC</span>\n",
       "</mark>\n",
       ": 72 regelmessig \n",
       "Temp: 37,5\n",
       "</div>"
      ],
      "text/plain": [
       "<IPython.core.display.HTML object>"
      ]
     },
     "metadata": {},
     "output_type": "display_data"
    },
    {
     "name": "stdout",
     "output_type": "stream",
     "text": [
      "[('BT', 'OBSERVATION', 'BLOOD_PRESSURE'), ('Puls', 'GPE_LOC', '')]\n",
      "BT:\n",
      "140/60\n",
      "Puls:\n",
      "72 regelmessig \n",
      "Temp:\n",
      "37,5\n",
      "\n",
      "BT\n",
      "Puls\n"
     ]
    }
   ],
   "source": [
    "corpus = \"\"\"BT: 140/60\n",
    "Puls: 72 regelmessig \n",
    "Temp: 37,5\n",
    "\"\"\"\n",
    "doc = nlp(corpus)\n",
    "displacy.render(doc, style=\"ent\") # dep | ent\n",
    "#displacy.render(doc, style=\"dep\") # dep | ent#\n",
    "\n",
    "explore(doc)\n",
    "sentence(doc)\n",
    "\n",
    "new_ents = []\n",
    "for ent in doc.ents:\n",
    "    print(ent)"
   ]
  },
  {
   "cell_type": "code",
   "execution_count": 5,
   "metadata": {},
   "outputs": [
    {
     "data": {
      "text/html": [
       "<div class=\"entities\" style=\"line-height: 2.5; direction: ltr\">Pasient med langtkomment malignt melanom, innlegges grunnet redusert allmenntilstand og \n",
       "<mark class=\"entity\" style=\"background: #ddd; padding: 0.45em 0.6em; margin: 0 0.25em; line-height: 1; border-radius: 0.35em;\">\n",
       "    feber\n",
       "    <span style=\"font-size: 0.8em; font-weight: bold; line-height: 1; border-radius: 0.35em; text-transform: uppercase; vertical-align: middle; margin-left: 0.5rem\">ICNP_F</span>\n",
       "</mark>\n",
       ". Man mistenker \n",
       "<mark class=\"entity\" style=\"background: #ddd; padding: 0.45em 0.6em; margin: 0 0.25em; line-height: 1; border-radius: 0.35em;\">\n",
       "    infeksjon\n",
       "    <span style=\"font-size: 0.8em; font-weight: bold; line-height: 1; border-radius: 0.35em; text-transform: uppercase; vertical-align: middle; margin-left: 0.5rem\">ICNP_F</span>\n",
       "</mark>\n",
       ", muligens etter et gammelt \n",
       "<mark class=\"entity\" style=\"background: #ddd; padding: 0.45em 0.6em; margin: 0 0.25em; line-height: 1; border-radius: 0.35em;\">\n",
       "    sår\n",
       "    <span style=\"font-size: 0.8em; font-weight: bold; line-height: 1; border-radius: 0.35em; text-transform: uppercase; vertical-align: middle; margin-left: 0.5rem\">ANATOMY</span>\n",
       "</mark>\n",
       " hvor det i september var innlagt plauradren som det da gikk \n",
       "<mark class=\"entity\" style=\"background: #ddd; padding: 0.45em 0.6em; margin: 0 0.25em; line-height: 1; border-radius: 0.35em;\">\n",
       "    infeksjon\n",
       "    <span style=\"font-size: 0.8em; font-weight: bold; line-height: 1; border-radius: 0.35em; text-transform: uppercase; vertical-align: middle; margin-left: 0.5rem\">ICNP_F</span>\n",
       "</mark>\n",
       " i. Vi har funn av gule stafylokokker i sårsekretet, samme som sist gang. Hun ble behandet med \n",
       "<mark class=\"entity\" style=\"background: #ddd; padding: 0.45em 0.6em; margin: 0 0.25em; line-height: 1; border-radius: 0.35em;\">\n",
       "    cloxacillin\n",
       "    <span style=\"font-size: 0.8em; font-weight: bold; line-height: 1; border-radius: 0.35em; text-transform: uppercase; vertical-align: middle; margin-left: 0.5rem\">MEDICATION</span>\n",
       "</mark>\n",
       " og \n",
       "<mark class=\"entity\" style=\"background: #ddd; padding: 0.45em 0.6em; margin: 0 0.25em; line-height: 1; border-radius: 0.35em;\">\n",
       "    Gentamycin\n",
       "    <span style=\"font-size: 0.8em; font-weight: bold; line-height: 1; border-radius: 0.35em; text-transform: uppercase; vertical-align: middle; margin-left: 0.5rem\">MEDICATION</span>\n",
       "</mark>\n",
       ", med god effekt av behandlingen. Satt på \n",
       "<mark class=\"entity\" style=\"background: #ddd; padding: 0.45em 0.6em; margin: 0 0.25em; line-height: 1; border-radius: 0.35em;\">\n",
       "    Bactrim\n",
       "    <span style=\"font-size: 0.8em; font-weight: bold; line-height: 1; border-radius: 0.35em; text-transform: uppercase; vertical-align: middle; margin-left: 0.5rem\">MEDICATION</span>\n",
       "</mark>\n",
       " før utreise, skal ha dette i 2 uker. Transfundert med \n",
       "<mark class=\"entity\" style=\"background: #ddd; padding: 0.45em 0.6em; margin: 0 0.25em; line-height: 1; border-radius: 0.35em;\">\n",
       "    blod\n",
       "    <span style=\"font-size: 0.8em; font-weight: bold; line-height: 1; border-radius: 0.35em; text-transform: uppercase; vertical-align: middle; margin-left: 0.5rem\">ICNP_F</span>\n",
       "</mark>\n",
       " 2 ganger under oppholdet grunnet kjent kronisk anemi. \n",
       "<mark class=\"entity\" style=\"background: #ddd; padding: 0.45em 0.6em; margin: 0 0.25em; line-height: 1; border-radius: 0.35em;\">\n",
       "    Hb\n",
       "    <span style=\"font-size: 0.8em; font-weight: bold; line-height: 1; border-radius: 0.35em; text-transform: uppercase; vertical-align: middle; margin-left: 0.5rem\">LAB</span>\n",
       "</mark>\n",
       " 10.3 ved utreise, stabilt økende. Hun ble jevnlig tilsett palliativt team under oppholdet grunnet \n",
       "<mark class=\"entity\" style=\"background: #ddd; padding: 0.45em 0.6em; margin: 0 0.25em; line-height: 1; border-radius: 0.35em;\">\n",
       "    kvalme\n",
       "    <span style=\"font-size: 0.8em; font-weight: bold; line-height: 1; border-radius: 0.35em; text-transform: uppercase; vertical-align: middle; margin-left: 0.5rem\">ICNP_F</span>\n",
       "</mark>\n",
       ".\n",
       "Hun reiser til eget hjem for palliativ behandling i regi av kommunen, dette etter eget ønske.\n",
       "</div>"
      ],
      "text/plain": [
       "<IPython.core.display.HTML object>"
      ]
     },
     "metadata": {},
     "output_type": "display_data"
    }
   ],
   "source": [
    "corpus = \"\"\"Pasient med langtkomment malignt melanom, innlegges grunnet redusert allmenntilstand og feber. Man mistenker infeksjon, muligens etter et gammelt sår hvor det i september var innlagt plauradren som det da gikk infeksjon i. Vi har funn av gule stafylokokker i sårsekretet, samme som sist gang. Hun ble behandet med cloxacillin og Gentamycin, med god effekt av behandlingen. Satt på Bactrim før utreise, skal ha dette i 2 uker. Transfundert med blod 2 ganger under oppholdet grunnet kjent kronisk anemi. Hb 10.3 ved utreise, stabilt økende. Hun ble jevnlig tilsett palliativt team under oppholdet grunnet kvalme.\n",
    "Hun reiser til eget hjem for palliativ behandling i regi av kommunen, dette etter eget ønske.\n",
    "\"\"\"\n",
    "doc = nlp(corpus)\n",
    "displacy.render(doc, style=\"ent\") # dep | ent\n",
    "#displacy.render(doc, style=\"dep\") # dep | ent"
   ]
  },
  {
   "cell_type": "code",
   "execution_count": null,
   "metadata": {},
   "outputs": [],
   "source": [
    "corpus = \"\"\"06.november 2011\n",
    "Journalnotat\n",
    "CRP fallende (56), kont. Bactrim. Planlegger utreise over helga, har fått ergoterapivurdering. Hb økende i dag (9.6), ktr. til imorgen\"\"\"\n",
    "doc = nlp(corpus)\n",
    "displacy.render(doc, style=\"ent\") # dep | ent\n",
    "explore(doc)\n",
    "#displacy.render(doc, style=\"dep\") # dep | ent\n"
   ]
  },
  {
   "cell_type": "code",
   "execution_count": 7,
   "metadata": {},
   "outputs": [
    {
     "data": {
      "text/html": [
       "<div class=\"entities\" style=\"line-height: 2.5; direction: ltr\">28.okt</br>\n",
       "<mark class=\"entity\" style=\"background: #ddd; padding: 0.45em 0.6em; margin: 0 0.25em; line-height: 1; border-radius: 0.35em;\">\n",
       "    Journalnotat\n",
       "\n",
       "    <span style=\"font-size: 0.8em; font-weight: bold; line-height: 1; border-radius: 0.35em; text-transform: uppercase; vertical-align: middle; margin-left: 0.5rem\">EVT</span>\n",
       "</mark>\n",
       "Pasienten har nok en nøytropen \n",
       "<mark class=\"entity\" style=\"background: #ddd; padding: 0.45em 0.6em; margin: 0 0.25em; line-height: 1; border-radius: 0.35em;\">\n",
       "    infeksjon\n",
       "    <span style=\"font-size: 0.8em; font-weight: bold; line-height: 1; border-radius: 0.35em; text-transform: uppercase; vertical-align: middle; margin-left: 0.5rem\">ICNP_F</span>\n",
       "</mark>\n",
       ". Fått oppvekst av staph. aureus i 1 flaske fra \n",
       "<mark class=\"entity\" style=\"background: #ddd; padding: 0.45em 0.6em; margin: 0 0.25em; line-height: 1; border-radius: 0.35em;\">\n",
       "    sekret\n",
       "    <span style=\"font-size: 0.8em; font-weight: bold; line-height: 1; border-radius: 0.35em; text-transform: uppercase; vertical-align: middle; margin-left: 0.5rem\">ICNP_F</span>\n",
       "</mark>\n",
       " i et gammelt plauradren-\n",
       "<mark class=\"entity\" style=\"background: #ddd; padding: 0.45em 0.6em; margin: 0 0.25em; line-height: 1; border-radius: 0.35em;\">\n",
       "    sår\n",
       "    <span style=\"font-size: 0.8em; font-weight: bold; line-height: 1; border-radius: 0.35em; text-transform: uppercase; vertical-align: middle; margin-left: 0.5rem\">ANATOMY</span>\n",
       "</mark>\n",
       " som det tidligere har vært \n",
       "<mark class=\"entity\" style=\"background: #ddd; padding: 0.45em 0.6em; margin: 0 0.25em; line-height: 1; border-radius: 0.35em;\">\n",
       "    infeksjon\n",
       "    <span style=\"font-size: 0.8em; font-weight: bold; line-height: 1; border-radius: 0.35em; text-transform: uppercase; vertical-align: middle; margin-left: 0.5rem\">ICNP_F</span>\n",
       "</mark>\n",
       " i. Det er bestilt \n",
       "<mark class=\"entity\" style=\"background: #7aecec; padding: 0.45em 0.6em; margin: 0 0.25em; line-height: 1; border-radius: 0.35em;\">\n",
       "    UL\n",
       "    <span style=\"font-size: 0.8em; font-weight: bold; line-height: 1; border-radius: 0.35em; text-transform: uppercase; vertical-align: middle; margin-left: 0.5rem\">ORG</span>\n",
       "</mark>\n",
       " mtp \n",
       "<mark class=\"entity\" style=\"background: #ddd; padding: 0.45em 0.6em; margin: 0 0.25em; line-height: 1; border-radius: 0.35em;\">\n",
       "    abscess\n",
       "    <span style=\"font-size: 0.8em; font-weight: bold; line-height: 1; border-radius: 0.35em; text-transform: uppercase; vertical-align: middle; margin-left: 0.5rem\">ANATOMY</span>\n",
       "</mark>\n",
       "/pusslomme, og dette skulle være mulig å få utført idag. Ellers i relativt grei form, men \n",
       "<mark class=\"entity\" style=\"background: #7aecec; padding: 0.45em 0.6em; margin: 0 0.25em; line-height: 1; border-radius: 0.35em;\">\n",
       "    nøytropen\n",
       "    <span style=\"font-size: 0.8em; font-weight: bold; line-height: 1; border-radius: 0.35em; text-transform: uppercase; vertical-align: middle; margin-left: 0.5rem\">ORG</span>\n",
       "</mark>\n",
       " (0,4)  og trombocyttopen (5, uten blødning). Fikk 2 \n",
       "<mark class=\"entity\" style=\"background: #7aecec; padding: 0.45em 0.6em; margin: 0 0.25em; line-height: 1; border-radius: 0.35em;\">\n",
       "    SAG\n",
       "    <span style=\"font-size: 0.8em; font-weight: bold; line-height: 1; border-radius: 0.35em; text-transform: uppercase; vertical-align: middle; margin-left: 0.5rem\">ORG</span>\n",
       "</mark>\n",
       " blodtransfusjon igår.</br>Fortsetter med uendret \n",
       "<mark class=\"entity\" style=\"background: #ddd; padding: 0.45em 0.6em; margin: 0 0.25em; line-height: 1; border-radius: 0.35em;\">\n",
       "    antibiotikaregime\n",
       "    <span style=\"font-size: 0.8em; font-weight: bold; line-height: 1; border-radius: 0.35em; text-transform: uppercase; vertical-align: middle; margin-left: 0.5rem\">PER</span>\n",
       "</mark>\n",
       " (\n",
       "<mark class=\"entity\" style=\"background: #ddd; padding: 0.45em 0.6em; margin: 0 0.25em; line-height: 1; border-radius: 0.35em;\">\n",
       "    cloxacillin\n",
       "    <span style=\"font-size: 0.8em; font-weight: bold; line-height: 1; border-radius: 0.35em; text-transform: uppercase; vertical-align: middle; margin-left: 0.5rem\">MEDICATION</span>\n",
       "</mark>\n",
       " og \n",
       "<mark class=\"entity\" style=\"background: #ddd; padding: 0.45em 0.6em; margin: 0 0.25em; line-height: 1; border-radius: 0.35em;\">\n",
       "    gentamycin\n",
       "    <span style=\"font-size: 0.8em; font-weight: bold; line-height: 1; border-radius: 0.35em; text-transform: uppercase; vertical-align: middle; margin-left: 0.5rem\">MEDICATION</span>\n",
       "</mark>\n",
       "). \n",
       "<mark class=\"entity\" style=\"background: #7aecec; padding: 0.45em 0.6em; margin: 0 0.25em; line-height: 1; border-radius: 0.35em;\">\n",
       "    Staph\n",
       "    <span style=\"font-size: 0.8em; font-weight: bold; line-height: 1; border-radius: 0.35em; text-transform: uppercase; vertical-align: middle; margin-left: 0.5rem\">ORG</span>\n",
       "</mark>\n",
       ". aureus i sårsekret er sensitivt for dicloxacillin, men endrer foreløpig ikke \n",
       "<mark class=\"entity\" style=\"background: #ddd; padding: 0.45em 0.6em; margin: 0 0.25em; line-height: 1; border-radius: 0.35em;\">\n",
       "    antibiotika\n",
       "    <span style=\"font-size: 0.8em; font-weight: bold; line-height: 1; border-radius: 0.35em; text-transform: uppercase; vertical-align: middle; margin-left: 0.5rem\">GPE_LOC</span>\n",
       "</mark>\n",
       "-\n",
       "<mark class=\"entity\" style=\"background: #ddd; padding: 0.45em 0.6em; margin: 0 0.25em; line-height: 1; border-radius: 0.35em;\">\n",
       "    regime\n",
       "    <span style=\"font-size: 0.8em; font-weight: bold; line-height: 1; border-radius: 0.35em; text-transform: uppercase; vertical-align: middle; margin-left: 0.5rem\">ICNP_F</span>\n",
       "</mark>\n",
       " grunnet alvorlig tilstand med mange mulige infeksjons- fokus. Nye prøver imorgen\n",
       "</div>"
      ],
      "text/plain": [
       "<IPython.core.display.HTML object>"
      ]
     },
     "metadata": {},
     "output_type": "display_data"
    },
    {
     "name": "stdout",
     "output_type": "stream",
     "text": [
      "[('Journalnotat\\n', 'EVT', ''), ('infeksjon', 'ICNP_F', '10010104'), ('sekret', 'ICNP_F', '10017635'), ('sår', 'ANATOMY', 'NONE'), ('infeksjon', 'ICNP_F', '10010104'), ('UL', 'ORG', ''), ('abscess', 'ANATOMY', '44132006'), ('nøytropen', 'ORG', ''), ('SAG', 'ORG', ''), ('antibiotikaregime', 'PER', ''), ('cloxacillin', 'MEDICATION', 'cloxacillin'), ('gentamycin', 'MEDICATION', 'gentamycin'), ('Staph', 'ORG', ''), ('antibiotika', 'GPE_LOC', ''), ('regime', 'ICNP_F', '10016609')]\n"
     ]
    }
   ],
   "source": [
    "corpus = \"\"\"28.okt\n",
    "Journalnotat\n",
    "Pasienten har nok en nøytropen infeksjon. Fått oppvekst av staph. aureus i 1 flaske fra sekret i et gammelt plauradren-sår som det tidligere har vært infeksjon i. Det er bestilt UL mtp abscess/pusslomme, og dette skulle være mulig å få utført idag. Ellers i relativt grei form, men nøytropen (0,4)  og trombocyttopen (5, uten blødning). Fikk 2 SAG blodtransfusjon igår.\n",
    "Fortsetter med uendret antibiotikaregime (cloxacillin og gentamycin). Staph. aureus i sårsekret er sensitivt for dicloxacillin, men endrer foreløpig ikke antibiotika-regime grunnet alvorlig tilstand med mange mulige infeksjons- fokus. Nye prøver imorgen\n",
    "\"\"\"\n",
    "doc = nlp(corpus)\n",
    "displacy.render(doc, style=\"ent\") # dep | ent\n",
    "explore(doc)\n",
    "\n",
    "\n",
    "\n"
   ]
  },
  {
   "cell_type": "code",
   "execution_count": 10,
   "metadata": {},
   "outputs": [
    {
     "data": {
      "text/html": [
       "<div class=\"entities\" style=\"line-height: 2.5; direction: ltr\">28.okt</br>UL- \n",
       "<mark class=\"entity\" style=\"background: #ddd; padding: 0.45em 0.6em; margin: 0 0.25em; line-height: 1; border-radius: 0.35em;\">\n",
       "    thorax\n",
       "    <span style=\"font-size: 0.8em; font-weight: bold; line-height: 1; border-radius: 0.35em; text-transform: uppercase; vertical-align: middle; margin-left: 0.5rem\">ANATOMY</span>\n",
       "</mark>\n",
       " UL//TH</br>Svarende til tidligere plauradren-lokalisasjon i nedre \n",
       "<mark class=\"entity\" style=\"background: #ddd; padding: 0.45em 0.6em; margin: 0 0.25em; line-height: 1; border-radius: 0.35em;\">\n",
       "    høyre\n",
       "    <span style=\"font-size: 0.8em; font-weight: bold; line-height: 1; border-radius: 0.35em; text-transform: uppercase; vertical-align: middle; margin-left: 0.5rem\">LATERALITET</span>\n",
       "</mark>\n",
       " \n",
       "<mark class=\"entity\" style=\"background: #ddd; padding: 0.45em 0.6em; margin: 0 0.25em; line-height: 1; border-radius: 0.35em;\">\n",
       "    thorax\n",
       "    <span style=\"font-size: 0.8em; font-weight: bold; line-height: 1; border-radius: 0.35em; text-transform: uppercase; vertical-align: middle; margin-left: 0.5rem\">ANATOMY</span>\n",
       "</mark>\n",
       " finner man en struktur som har største diameter 2cm, blandet ekkogent og nesten ekkotomt innhold forenelig med en blanding av skyllevann og puss. Den pussfylte delen har størst diameter 11 mm\n",
       "</div>"
      ],
      "text/plain": [
       "<IPython.core.display.HTML object>"
      ]
     },
     "metadata": {},
     "output_type": "display_data"
    },
    {
     "name": "stdout",
     "output_type": "stream",
     "text": [
      "[('thorax', 'ANATOMY', '51185008'), ('høyre', 'LATERALITET', 'DXT'), ('thorax', 'ANATOMY', '51185008')]\n"
     ]
    }
   ],
   "source": [
    "corpus = \"\"\"28.okt\n",
    "UL- thorax UL//TH\n",
    "Svarende til tidligere plauradren-lokalisasjon i nedre høyre thorax finner man en struktur som har største diameter 2cm, blandet ekkogent og nesten ekkotomt innhold forenelig med en blanding av skyllevann og puss. Den pussfylte delen har størst diameter 11 mm\n",
    "\"\"\"\n",
    "doc = nlp(corpus)\n",
    "displacy.render(doc, style=\"ent\") # dep | ent\n",
    "explore(doc)"
   ]
  },
  {
   "cell_type": "code",
   "execution_count": 9,
   "metadata": {},
   "outputs": [
    {
     "data": {
      "text/html": [
       "<div class=\"entities\" style=\"line-height: 2.5; direction: ltr\">24. okt</br>Vaktnotat</br>Pasient med anemi og neutropeni, hadde en komplisert \n",
       "<mark class=\"entity\" style=\"background: #ddd; padding: 0.45em 0.6em; margin: 0 0.25em; line-height: 1; border-radius: 0.35em;\">\n",
       "    infeksjon\n",
       "    <span style=\"font-size: 0.8em; font-weight: bold; line-height: 1; border-radius: 0.35em; text-transform: uppercase; vertical-align: middle; margin-left: 0.5rem\">ICNP_F</span>\n",
       "</mark>\n",
       " i september (oppvekst i bl. kult, ekspektorat, \n",
       "<mark class=\"entity\" style=\"background: #ddd; padding: 0.45em 0.6em; margin: 0 0.25em; line-height: 1; border-radius: 0.35em;\">\n",
       "    urin\n",
       "    <span style=\"font-size: 0.8em; font-weight: bold; line-height: 1; border-radius: 0.35em; text-transform: uppercase; vertical-align: middle; margin-left: 0.5rem\">ICNP_F</span>\n",
       "</mark>\n",
       " og sårsekret etter innlagt dren).</br>Hun kommer nå inn etter å ha hatt \n",
       "<mark class=\"entity\" style=\"background: #ddd; padding: 0.45em 0.6em; margin: 0 0.25em; line-height: 1; border-radius: 0.35em;\">\n",
       "    feber\n",
       "    <span style=\"font-size: 0.8em; font-weight: bold; line-height: 1; border-radius: 0.35em; text-transform: uppercase; vertical-align: middle; margin-left: 0.5rem\">ICNP_F</span>\n",
       "</mark>\n",
       " siste dagene, også svettetokter. Har målt \n",
       "<mark class=\"entity\" style=\"background: #ddd; padding: 0.45em 0.6em; margin: 0 0.25em; line-height: 1; border-radius: 0.35em;\">\n",
       "    temperatur\n",
       "    <span style=\"font-size: 0.8em; font-weight: bold; line-height: 1; border-radius: 0.35em; text-transform: uppercase; vertical-align: middle; margin-left: 0.5rem\">OBSERVATION</span>\n",
       "</mark>\n",
       " så høy som 39.5. Nå afebril, men virker varm.</br>Ser til drenssåret som fortsatt ikke har grodd skikkelig, men det er byttet jevnlig av hjemmesykepleier, og har ifølge \n",
       "<mark class=\"entity\" style=\"background: #ddd; padding: 0.45em 0.6em; margin: 0 0.25em; line-height: 1; border-radius: 0.35em;\">\n",
       "    pas\n",
       "    <span style=\"font-size: 0.8em; font-weight: bold; line-height: 1; border-radius: 0.35em; text-transform: uppercase; vertical-align: middle; margin-left: 0.5rem\">PER</span>\n",
       "</mark>\n",
       ". og medbrakt legeskriv blitt betydelig bedre.</br>Må nesten mistenke samme utgangspunkt som sist, starter derfor med \n",
       "<mark class=\"entity\" style=\"background: #ddd; padding: 0.45em 0.6em; margin: 0 0.25em; line-height: 1; border-radius: 0.35em;\">\n",
       "    cloxacillin\n",
       "    <span style=\"font-size: 0.8em; font-weight: bold; line-height: 1; border-radius: 0.35em; text-transform: uppercase; vertical-align: middle; margin-left: 0.5rem\">MEDICATION</span>\n",
       "</mark>\n",
       " og genta (etter sist resistensundersøkelser). Gr. trombocytemi og anemi blir det ikke aktuelt med kirurgisk intervensjon nå. Tatt bl.kult, prøver av \n",
       "<mark class=\"entity\" style=\"background: #ddd; padding: 0.45em 0.6em; margin: 0 0.25em; line-height: 1; border-radius: 0.35em;\">\n",
       "    sår\n",
       "    <span style=\"font-size: 0.8em; font-weight: bold; line-height: 1; border-radius: 0.35em; text-transform: uppercase; vertical-align: middle; margin-left: 0.5rem\">ANATOMY</span>\n",
       "</mark>\n",
       ", \n",
       "<mark class=\"entity\" style=\"background: #ddd; padding: 0.45em 0.6em; margin: 0 0.25em; line-height: 1; border-radius: 0.35em;\">\n",
       "    nese\n",
       "    <span style=\"font-size: 0.8em; font-weight: bold; line-height: 1; border-radius: 0.35em; text-transform: uppercase; vertical-align: middle; margin-left: 0.5rem\">ANATOMY</span>\n",
       "</mark>\n",
       ", \n",
       "<mark class=\"entity\" style=\"background: #ddd; padding: 0.45em 0.6em; margin: 0 0.25em; line-height: 1; border-radius: 0.35em;\">\n",
       "    urin\n",
       "    <span style=\"font-size: 0.8em; font-weight: bold; line-height: 1; border-radius: 0.35em; text-transform: uppercase; vertical-align: middle; margin-left: 0.5rem\">ICNP_F</span>\n",
       "</mark>\n",
       " (\n",
       "<mark class=\"entity\" style=\"background: #7aecec; padding: 0.45em 0.6em; margin: 0 0.25em; line-height: 1; border-radius: 0.35em;\">\n",
       "    neg\n",
       "    <span style=\"font-size: 0.8em; font-weight: bold; line-height: 1; border-radius: 0.35em; text-transform: uppercase; vertical-align: middle; margin-left: 0.5rem\">ORG</span>\n",
       "</mark>\n",
       ") og rtg \n",
       "<mark class=\"entity\" style=\"background: #ddd; padding: 0.45em 0.6em; margin: 0 0.25em; line-height: 1; border-radius: 0.35em;\">\n",
       "    thorax\n",
       "    <span style=\"font-size: 0.8em; font-weight: bold; line-height: 1; border-radius: 0.35em; text-transform: uppercase; vertical-align: middle; margin-left: 0.5rem\">ANATOMY</span>\n",
       "</mark>\n",
       " (ser ingenting nytt).</br>Selv om \n",
       "<mark class=\"entity\" style=\"background: #ddd; padding: 0.45em 0.6em; margin: 0 0.25em; line-height: 1; border-radius: 0.35em;\">\n",
       "    BT\n",
       "    <span style=\"font-size: 0.8em; font-weight: bold; line-height: 1; border-radius: 0.35em; text-transform: uppercase; vertical-align: middle; margin-left: 0.5rem\">OBSERVATION</span>\n",
       "</mark>\n",
       ", \n",
       "<mark class=\"entity\" style=\"background: #ddd; padding: 0.45em 0.6em; margin: 0 0.25em; line-height: 1; border-radius: 0.35em;\">\n",
       "    puls\n",
       "    <span style=\"font-size: 0.8em; font-weight: bold; line-height: 1; border-radius: 0.35em; text-transform: uppercase; vertical-align: middle; margin-left: 0.5rem\">OBSERVATION</span>\n",
       "</mark>\n",
       ", resp.frekv, \n",
       "<mark class=\"entity\" style=\"background: #ddd; padding: 0.45em 0.6em; margin: 0 0.25em; line-height: 1; border-radius: 0.35em;\">\n",
       "    temperatur\n",
       "    <span style=\"font-size: 0.8em; font-weight: bold; line-height: 1; border-radius: 0.35em; text-transform: uppercase; vertical-align: middle; margin-left: 0.5rem\">OBSERVATION</span>\n",
       "</mark>\n",
       " og hun er tørr og varm, mistenker jeg alikevel sepsis/bacteremi.</div>"
      ],
      "text/plain": [
       "<IPython.core.display.HTML object>"
      ]
     },
     "metadata": {},
     "output_type": "display_data"
    },
    {
     "name": "stdout",
     "output_type": "stream",
     "text": [
      "[('infeksjon', 'ICNP_F', '10010104'), ('urin', 'ICNP_F', '10020478'), ('feber', 'ICNP_F', '10007916'), ('temperatur', 'OBSERVATION', 'BODY_TEMP'), ('pas', 'PER', ''), ('cloxacillin', 'MEDICATION', 'cloxacillin'), ('sår', 'ANATOMY', 'NONE'), ('nese', 'ANATOMY', '45206002'), ('urin', 'ICNP_F', '10020478'), ('neg', 'ORG', ''), ('thorax', 'ANATOMY', '51185008'), ('BT', 'OBSERVATION', 'BLOOD_PRESSURE'), ('puls', 'OBSERVATION', 'PULSE'), ('temperatur', 'OBSERVATION', 'BODY_TEMP')]\n"
     ]
    }
   ],
   "source": [
    "corpus = \"\"\"24. okt\n",
    "Vaktnotat\n",
    "Pasient med anemi og neutropeni, hadde en komplisert infeksjon i september (oppvekst i bl. kult, ekspektorat, urin og sårsekret etter innlagt dren).\n",
    "Hun kommer nå inn etter å ha hatt feber siste dagene, også svettetokter. Har målt temperatur så høy som 39.5. Nå afebril, men virker varm.\n",
    "Ser til drenssåret som fortsatt ikke har grodd skikkelig, men det er byttet jevnlig av hjemmesykepleier, og har ifølge pas. og medbrakt legeskriv blitt betydelig bedre.\n",
    "Må nesten mistenke samme utgangspunkt som sist, starter derfor med cloxacillin og genta (etter sist resistensundersøkelser). Gr. trombocytemi og anemi blir det ikke aktuelt med kirurgisk intervensjon nå. Tatt bl.kult, prøver av sår, nese, urin (neg) og rtg thorax (ser ingenting nytt).\n",
    "Selv om BT, puls, resp.frekv, temperatur og hun er tørr og varm, mistenker jeg alikevel sepsis/bacteremi.\"\"\"\n",
    "doc = nlp(corpus)\n",
    "displacy.render(doc, style=\"ent\") # dep | ent\n",
    "explore(doc)"
   ]
  }
 ],
 "metadata": {
  "kernelspec": {
   "display_name": "Python 3",
   "language": "python",
   "name": "python3"
  },
  "language_info": {
   "codemirror_mode": {
    "name": "ipython",
    "version": 3
   },
   "file_extension": ".py",
   "mimetype": "text/x-python",
   "name": "python",
   "nbconvert_exporter": "python",
   "pygments_lexer": "ipython3",
   "version": "3.7.5"
  }
 },
 "nbformat": 4,
 "nbformat_minor": 4
}
