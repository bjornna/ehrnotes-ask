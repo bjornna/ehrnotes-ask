{
 "nbformat": 4,
 "nbformat_minor": 2,
 "metadata": {
  "language_info": {
   "name": "python",
   "codemirror_mode": {
    "name": "ipython",
    "version": 3
   },
   "version": "3.7.5-final"
  },
  "orig_nbformat": 2,
  "file_extension": ".py",
  "mimetype": "text/x-python",
  "name": "python",
  "npconvert_exporter": "python",
  "pygments_lexer": "ipython3",
  "version": 3,
  "kernelspec": {
   "name": "python37564bitb63186df1ca7491ba9f781a936fbad61",
   "display_name": "Python 3.7.5 64-bit"
  }
 },
 "cells": [
  {
   "source": [
    "import spacy\n",
    "import main\n",
    "from tabulate import tabulate\n",
    "from spacy import displacy\n",
    "\n",
    "nlp = main.load_spacy()"
   ],
   "cell_type": "code",
   "outputs": [],
   "metadata": {},
   "execution_count": 54
  },
  {
   "source": [
    "def explore(doc):\n",
    "    result = [\n",
    "         {\"start\": ent.start_char, \"end\": ent.end_char,\n",
    "            \"label\": ent.label_, \"id\": ent.ent_id_, \"text\": ent.text}\n",
    "        for ent in doc.ents\n",
    "    ]\n",
    "    print(tabulate(result))\n",
    "\n",
    "def emit(doc):\n",
    "    print(doc)\n",
    "\n",
    "def sentence(doc):\n",
    "    for sent in doc.sents:\n",
    "        print(sent.text)\n",
    "def noun_chunks(doc):\n",
    "    print(\"NOUN CHECKS - START\")\n",
    "    for chunk in doc.noun_chunks:\n",
    "        print(chunk.text, chunk.root.text, chunk.root.dep_, chunk.root.head.text)\n",
    "    print(\"NOUN CHECKS - END \")\n",
    "\n",
    "def tokens_doc(doc):\n",
    "    for token in doc:\n",
    "        print(token.text, token.dep_, token.head.text, token.head.pos_, [child for child in token.children])"
   ],
   "cell_type": "code",
   "outputs": [],
   "metadata": {},
   "execution_count": 55
  },
  {
   "source": [
    "def extract_quantity(doc):\n",
    "    print(\"Go\")\n",
    "    for ent in doc.ents:\n",
    "        if \"OBSERVATION\"in ent.label_ :\n",
    "            print(\"Found observation\")\n",
    "            head = ent.root.head\n",
    "            rs = head.rights\n",
    "            print(rs)\n",
    "            \n",
    "            "
   ],
   "cell_type": "code",
   "outputs": [],
   "metadata": {},
   "execution_count": 56
  },
  {
   "source": [
    "\n",
    "table_format = \"psql\" # plain, html, grid, github, \n",
    "def extract_observations(doc, debug=False):\n",
    "        \n",
    "    S_COLLECT_OBSERVATION = 0\n",
    "    S_START_OBSERVATION = 1\n",
    "    S_INIT = -1\n",
    "    state = S_INIT \n",
    "    obs = None \n",
    "    obs_val = None \n",
    "    obs_unit = None \n",
    "    table = []\n",
    "    observations = []\n",
    "    for n in doc:\n",
    "        table.append([n.text, n.ent_iob_, n.ent_type_ , n.ent_id_, n.pos_, n.tag_])\n",
    "        ent = n.ent_iob_ \n",
    "        ent_type = n.ent_type_ \n",
    "        ent_id = n.ent_id_ \n",
    "        if \"B\" == ent and \"OBSERVATION\" == ent_type: \n",
    "            state = S_START_OBSERVATION\n",
    "            if obs:\n",
    "                if debug : \n",
    "                    print(f\"Previous was {obs} = {obs_val} {obs_unit}\") \n",
    "                observations.append([obs, obs_val, obs_unit])\n",
    "\n",
    "            obs = ent_id\n",
    "            \n",
    "            obs_val = None\n",
    "            obs_unit = None \n",
    "            if debug : \n",
    "                print(f\"Start observation {obs}\")\n",
    "        elif \"I\" == ent: \n",
    "            state = S_START_OBSERVATION\n",
    "        else:\n",
    "            if state == S_START_OBSERVATION:\n",
    "                state = S_COLLECT_OBSERVATION\n",
    "                if debug: \n",
    "                    print(f\"Collect obs {obs}\")\n",
    "                if \"NUM\" == n.pos_:\n",
    "                    obs_val = n.text\n",
    "                if \"UNIT\" == ent_type:\n",
    "                    obs_unit = n.text\n",
    "\n",
    "            elif state == S_COLLECT_OBSERVATION:\n",
    "                if debug: \n",
    "                    print(f\"Collect obs {obs}\")\n",
    "                if \"NUM\" == n.pos_: \n",
    "                    obs_val = n.text\n",
    "                if \"UNIT\" == ent_type:\n",
    "                    obs_unit = n.text\n",
    "\n",
    "    observations.append([obs, obs_val, obs_unit])\n",
    "    return [observations, table]\n",
    ""
   ],
   "cell_type": "code",
   "outputs": [],
   "metadata": {},
   "execution_count": 57
  },
  {
   "source": [
    "def write_results(result, PRINT_OBSERVATIONS=True, PRINT_NLP_TABLE=True):\n",
    "    observations = result[0]\n",
    "    table = result[1] \n",
    "\n",
    "    if PRINT_OBSERVATIONS: \n",
    "        print(tabulate(observations, headers=[\"ID\", \"VALUE\", \"UNIT\"], tablefmt=table_format))\n",
    "\n",
    "    if PRINT_NLP_TABLE: \n",
    "        print(tabulate(table, headers=[\"Text\", \"Ent\", \"Type\", \"Pos\", \"Speech\", \"Speech details\"], tablefmt=table_format))\n",
    "\n",
    ""
   ],
   "cell_type": "code",
   "outputs": [],
   "metadata": {},
   "execution_count": 58
  },
  {
   "source": [
    "\n",
    "doc = nlp(\"Puls: 72 regelmessig. BP 120/80 mmHg. Temp 38 C. Resp. 45.  Smerte i venstre skulder. Redd for å dø. Ernæring må passes på.\")\n",
    "result = extract_observations(doc, False)\n",
    "write_results(result, True, False) "
   ],
   "cell_type": "code",
   "outputs": [
    {
     "output_type": "stream",
     "name": "stdout",
     "text": "+----------------+---------+--------+\n| ID             |   VALUE | UNIT   |\n|----------------+---------+--------|\n| PULSE          |      72 |        |\n| BLOOD_PRESSURE |         | mmHg   |\n| BODY_TEMP      |      38 |        |\n| RESP           |      45 |        |\n+----------------+---------+--------+\n"
    }
   ],
   "metadata": {},
   "execution_count": 59
  },
  {
   "source": [
    "doc = nlp(\"Puls: 60 /min regelmessig. BP 120/80  mmHg. Temp 38 C. Resp. 22.\")\n",
    "result = extract_observations(doc, False)\n",
    "write_results(result, True, False) "
   ],
   "cell_type": "code",
   "outputs": [
    {
     "output_type": "stream",
     "name": "stdout",
     "text": "+----------------+---------+--------+\n| ID             | VALUE   | UNIT   |\n|----------------+---------+--------|\n| PULSE          | 60      |        |\n| BLOOD_PRESSURE | 120/80  | mmHg   |\n| BODY_TEMP      | 38      |        |\n| RESP           | 22      |        |\n+----------------+---------+--------+\n"
    }
   ],
   "metadata": {},
   "execution_count": 60
  },
  {
   "source": [
    "doc = nlp(\"Hun kommer nå inn etter å ha hatt feber siste dagene, også svettetokter. Har målt temperatur så høy som 39,5 C . Nå afebril, men virker varm.\")\n",
    "result = extract_observations(doc, False)\n",
    "write_results(result, True, False) \n",
    "print(\"  ENTITETER   \")\n",
    "explore(doc)\n",
    "print(\" DISPLACY  \")\n",
    "displacy.render(doc, style=\"ent\")"
   ],
   "cell_type": "code",
   "outputs": [
    {
     "output_type": "stream",
     "name": "stdout",
     "text": "+-----------+---------+--------+\n| ID        | VALUE   | UNIT   |\n|-----------+---------+--------|\n| BODY_TEMP | 39,5    | C      |\n+-----------+---------+--------+\n  ENTITETER\n---  ---  -----------  ---------  ----------\n 34   39  ICNP_F       10007916   feber\n 82   92  OBSERVATION  BODY_TEMP  temperatur\n109  110  UNIT         CEL        C\n---  ---  -----------  ---------  ----------\n DISPLACY\n"
    },
    {
     "output_type": "display_data",
     "data": {
      "text/plain": "<IPython.core.display.HTML object>",
      "text/html": "<div class=\"entities\" style=\"line-height: 2.5; direction: ltr\">Hun kommer nå inn etter å ha hatt \n<mark class=\"entity\" style=\"background: #ddd; padding: 0.45em 0.6em; margin: 0 0.25em; line-height: 1; border-radius: 0.35em;\">\n    feber\n    <span style=\"font-size: 0.8em; font-weight: bold; line-height: 1; border-radius: 0.35em; text-transform: uppercase; vertical-align: middle; margin-left: 0.5rem\">ICNP_F</span>\n</mark>\n siste dagene, også svettetokter. Har målt \n<mark class=\"entity\" style=\"background: #ddd; padding: 0.45em 0.6em; margin: 0 0.25em; line-height: 1; border-radius: 0.35em;\">\n    temperatur\n    <span style=\"font-size: 0.8em; font-weight: bold; line-height: 1; border-radius: 0.35em; text-transform: uppercase; vertical-align: middle; margin-left: 0.5rem\">OBSERVATION</span>\n</mark>\n så høy som 39,5 \n<mark class=\"entity\" style=\"background: #ddd; padding: 0.45em 0.6em; margin: 0 0.25em; line-height: 1; border-radius: 0.35em;\">\n    C\n    <span style=\"font-size: 0.8em; font-weight: bold; line-height: 1; border-radius: 0.35em; text-transform: uppercase; vertical-align: middle; margin-left: 0.5rem\">UNIT</span>\n</mark>\n . Nå afebril, men virker varm.</div>"
     },
     "metadata": {}
    }
   ],
   "metadata": {},
   "execution_count": 78
  },
  {
   "source": [
    "doc = nlp(\"Pasienten har feber fordi temp er 37\")\n",
    "result = extract_observations(doc, False)\n",
    "write_results(result, True, False) \n",
    "explore(doc)"
   ],
   "cell_type": "code",
   "outputs": [
    {
     "output_type": "stream",
     "name": "stdout",
     "text": "+-----------+---------+--------+\n| ID        |   VALUE | UNIT   |\n|-----------+---------+--------|\n| BODY_TEMP |      37 |        |\n+-----------+---------+--------+\n--  --  -----------  ---------  -----\n14  19  ICNP_F       10007916   feber\n26  30  OBSERVATION  BODY_TEMP  temp\n--  --  -----------  ---------  -----\n"
    }
   ],
   "metadata": {},
   "execution_count": 64
  },
  {
   "source": [
    "corpus = \"\"\"Pasient med langtkomment malignt melanom, innlegges grunnet redusert allmenntilstand og feber. Man mistenker infeksjon, muligens etter et gammelt sår hvor det i september var innlagt plauradren som det da gikk infeksjon i. Vi har funn av gule stafylokokker i sårsekretet, samme som sist gang. Hun ble behandet med cloxacillin og \t, med god effekt av behandlingen. Satt på Bactrim før utreise, skal ha dette i 2 uker. Transfundert med blod 2 ganger under oppholdet grunnet kjent kronisk anemi. Hb 10.3 ved utreise, stabilt økende. Hun ble jevnlig tilsett palliativt team under oppholdet grunnet kvalme.\n",
    "Hun reiser til eget hjem for palliativ behandling i regi av kommunen, dette etter eget ønske.\n",
    "\n",
    "Temperatur er 39,2  . \n",
    "\n",
    "Medikamenter:\n",
    "Simvastatin 20mg x1 vesp\n",
    "Laktulose 15ml x2\n",
    "Paracet 1gr x4\n",
    "Bactrim 2tbl x2 i 2 uker\n",
    "\"\"\"\n",
    "doc = nlp(corpus)\n",
    "result = extract_observations(doc, False)\n",
    "write_results(result, True, False) \n",
    "#explore(doc)\n",
    "displacy.render(doc, style=\"ent\")\n",
    ""
   ],
   "cell_type": "code",
   "outputs": [
    {
     "output_type": "stream",
     "name": "stdout",
     "text": "+-----------+---------+--------+\n| ID        |   VALUE | UNIT   |\n|-----------+---------+--------|\n| BODY_TEMP |       2 |        |\n+-----------+---------+--------+\n"
    },
    {
     "output_type": "display_data",
     "data": {
      "text/plain": "<IPython.core.display.HTML object>",
      "text/html": "<div class=\"entities\" style=\"line-height: 2.5; direction: ltr\">Pasient med langtkomment malignt melanom, innlegges grunnet redusert allmenntilstand og \n<mark class=\"entity\" style=\"background: #ddd; padding: 0.45em 0.6em; margin: 0 0.25em; line-height: 1; border-radius: 0.35em;\">\n    feber\n    <span style=\"font-size: 0.8em; font-weight: bold; line-height: 1; border-radius: 0.35em; text-transform: uppercase; vertical-align: middle; margin-left: 0.5rem\">ICNP_F</span>\n</mark>\n. Man mistenker \n<mark class=\"entity\" style=\"background: #ddd; padding: 0.45em 0.6em; margin: 0 0.25em; line-height: 1; border-radius: 0.35em;\">\n    infeksjon\n    <span style=\"font-size: 0.8em; font-weight: bold; line-height: 1; border-radius: 0.35em; text-transform: uppercase; vertical-align: middle; margin-left: 0.5rem\">ICNP_F</span>\n</mark>\n, muligens etter et gammelt \n<mark class=\"entity\" style=\"background: #ddd; padding: 0.45em 0.6em; margin: 0 0.25em; line-height: 1; border-radius: 0.35em;\">\n    sår\n    <span style=\"font-size: 0.8em; font-weight: bold; line-height: 1; border-radius: 0.35em; text-transform: uppercase; vertical-align: middle; margin-left: 0.5rem\">ANATOMY</span>\n</mark>\n hvor det i september var innlagt plauradren som det da gikk \n<mark class=\"entity\" style=\"background: #ddd; padding: 0.45em 0.6em; margin: 0 0.25em; line-height: 1; border-radius: 0.35em;\">\n    infeksjon\n    <span style=\"font-size: 0.8em; font-weight: bold; line-height: 1; border-radius: 0.35em; text-transform: uppercase; vertical-align: middle; margin-left: 0.5rem\">ICNP_F</span>\n</mark>\n i. Vi har funn av gule stafylokokker i sårsekretet, samme som sist gang. Hun ble behandet med \n<mark class=\"entity\" style=\"background: #ddd; padding: 0.45em 0.6em; margin: 0 0.25em; line-height: 1; border-radius: 0.35em;\">\n    cloxacillin\n    <span style=\"font-size: 0.8em; font-weight: bold; line-height: 1; border-radius: 0.35em; text-transform: uppercase; vertical-align: middle; margin-left: 0.5rem\">MEDICATION</span>\n</mark>\n og \t, med god effekt av behandlingen. Satt på \n<mark class=\"entity\" style=\"background: #ddd; padding: 0.45em 0.6em; margin: 0 0.25em; line-height: 1; border-radius: 0.35em;\">\n    Bactrim\n    <span style=\"font-size: 0.8em; font-weight: bold; line-height: 1; border-radius: 0.35em; text-transform: uppercase; vertical-align: middle; margin-left: 0.5rem\">MEDICATION</span>\n</mark>\n før utreise, skal ha dette i 2 uker. Transfundert med \n<mark class=\"entity\" style=\"background: #ddd; padding: 0.45em 0.6em; margin: 0 0.25em; line-height: 1; border-radius: 0.35em;\">\n    blod\n    <span style=\"font-size: 0.8em; font-weight: bold; line-height: 1; border-radius: 0.35em; text-transform: uppercase; vertical-align: middle; margin-left: 0.5rem\">ICNP_F</span>\n</mark>\n 2 ganger under oppholdet grunnet kjent kronisk anemi. \n<mark class=\"entity\" style=\"background: #ddd; padding: 0.45em 0.6em; margin: 0 0.25em; line-height: 1; border-radius: 0.35em;\">\n    Hb\n    <span style=\"font-size: 0.8em; font-weight: bold; line-height: 1; border-radius: 0.35em; text-transform: uppercase; vertical-align: middle; margin-left: 0.5rem\">LAB</span>\n</mark>\n 10.3 ved utreise, stabilt økende. Hun ble jevnlig tilsett palliativt team under oppholdet grunnet \n<mark class=\"entity\" style=\"background: #ddd; padding: 0.45em 0.6em; margin: 0 0.25em; line-height: 1; border-radius: 0.35em;\">\n    kvalme\n    <span style=\"font-size: 0.8em; font-weight: bold; line-height: 1; border-radius: 0.35em; text-transform: uppercase; vertical-align: middle; margin-left: 0.5rem\">ICNP_F</span>\n</mark>\n.</br>Hun reiser til eget hjem for palliativ behandling i regi av kommunen, dette etter eget ønske.</br></br>\n<mark class=\"entity\" style=\"background: #ddd; padding: 0.45em 0.6em; margin: 0 0.25em; line-height: 1; border-radius: 0.35em;\">\n    Temperatur\n    <span style=\"font-size: 0.8em; font-weight: bold; line-height: 1; border-radius: 0.35em; text-transform: uppercase; vertical-align: middle; margin-left: 0.5rem\">OBSERVATION</span>\n</mark>\n er 39,2  . </br></br>Medikamenter:</br>\n<mark class=\"entity\" style=\"background: #ddd; padding: 0.45em 0.6em; margin: 0 0.25em; line-height: 1; border-radius: 0.35em;\">\n    Simvastatin\n    <span style=\"font-size: 0.8em; font-weight: bold; line-height: 1; border-radius: 0.35em; text-transform: uppercase; vertical-align: middle; margin-left: 0.5rem\">MEDICATION</span>\n</mark>\n 20mg \n<mark class=\"entity\" style=\"background: #ddd; padding: 0.45em 0.6em; margin: 0 0.25em; line-height: 1; border-radius: 0.35em;\">\n    x1\n    <span style=\"font-size: 0.8em; font-weight: bold; line-height: 1; border-radius: 0.35em; text-transform: uppercase; vertical-align: middle; margin-left: 0.5rem\">DRV</span>\n</mark>\n vesp</br>\n<mark class=\"entity\" style=\"background: #ddd; padding: 0.45em 0.6em; margin: 0 0.25em; line-height: 1; border-radius: 0.35em;\">\n    Laktulose\n    <span style=\"font-size: 0.8em; font-weight: bold; line-height: 1; border-radius: 0.35em; text-transform: uppercase; vertical-align: middle; margin-left: 0.5rem\">MEDICATION</span>\n</mark>\n 15ml x2</br>\n<mark class=\"entity\" style=\"background: #ddd; padding: 0.45em 0.6em; margin: 0 0.25em; line-height: 1; border-radius: 0.35em;\">\n    Paracet\n    <span style=\"font-size: 0.8em; font-weight: bold; line-height: 1; border-radius: 0.35em; text-transform: uppercase; vertical-align: middle; margin-left: 0.5rem\">MEDICATION</span>\n</mark>\n 1gr x4</br>\n<mark class=\"entity\" style=\"background: #ddd; padding: 0.45em 0.6em; margin: 0 0.25em; line-height: 1; border-radius: 0.35em;\">\n    Bactrim\n    <span style=\"font-size: 0.8em; font-weight: bold; line-height: 1; border-radius: 0.35em; text-transform: uppercase; vertical-align: middle; margin-left: 0.5rem\">MEDICATION</span>\n</mark>\n 2tbl \n<mark class=\"entity\" style=\"background: #ddd; padding: 0.45em 0.6em; margin: 0 0.25em; line-height: 1; border-radius: 0.35em;\">\n    x2\n    <span style=\"font-size: 0.8em; font-weight: bold; line-height: 1; border-radius: 0.35em; text-transform: uppercase; vertical-align: middle; margin-left: 0.5rem\">PROD</span>\n</mark>\n i 2 uker\n</div>"
     },
     "metadata": {}
    }
   ],
   "metadata": {},
   "execution_count": 72
  }
 ]
}