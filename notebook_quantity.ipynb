{
 "nbformat": 4,
 "nbformat_minor": 2,
 "metadata": {
  "language_info": {
   "name": "python",
   "codemirror_mode": {
    "name": "ipython",
    "version": 3
   },
   "version": "3.7.5-final"
  },
  "orig_nbformat": 2,
  "file_extension": ".py",
  "mimetype": "text/x-python",
  "name": "python",
  "npconvert_exporter": "python",
  "pygments_lexer": "ipython3",
  "version": 3,
  "kernelspec": {
   "name": "python37564bitb63186df1ca7491ba9f781a936fbad61",
   "display_name": "Python 3.7.5 64-bit"
  }
 },
 "cells": [
  {
   "cell_type": "code",
   "execution_count": 1,
   "metadata": {},
   "outputs": [],
   "source": [
    "import spacy\n",
    "import main\n",
    "from tabulate import tabulate\n",
    "\n",
    "nlp = main.load_spacy()"
   ]
  },
  {
   "cell_type": "code",
   "execution_count": 2,
   "metadata": {},
   "outputs": [],
   "source": [
    "def explore(doc):\n",
    "    result = [\n",
    "         {\"start\": ent.start_char, \"end\": ent.end_char,\n",
    "            \"label\": ent.label_, \"id\": ent.ent_id_, \"text\": ent.text}\n",
    "        for ent in doc.ents\n",
    "    ]\n",
    "    print(result)\n",
    "\n",
    "def emit(doc):\n",
    "    print(doc)\n",
    "\n",
    "def sentence(doc):\n",
    "    for sent in doc.sents:\n",
    "        print(sent.text)\n",
    "def noun_chunks(doc):\n",
    "    print(\"NOUN CHECKS - START\")\n",
    "    for chunk in doc.noun_chunks:\n",
    "        print(chunk.text, chunk.root.text, chunk.root.dep_, chunk.root.head.text)\n",
    "    print(\"NOUN CHECKS - END \")\n",
    "\n",
    "def tokens_doc(doc):\n",
    "    for token in doc:\n",
    "        print(token.text, token.dep_, token.head.text, token.head.pos_, [child for child in token.children])"
   ]
  },
  {
   "cell_type": "code",
   "execution_count": 3,
   "metadata": {},
   "outputs": [],
   "source": [
    "def extract_quantity(doc):\n",
    "    print(\"Go\")\n",
    "    for ent in doc.ents:\n",
    "        if \"OBSERVATION\"in ent.label_ :\n",
    "            print(\"Found observation\")\n",
    "            head = ent.root.head\n",
    "            rs = head.rights\n",
    "            print(rs)\n",
    "            \n",
    "            "
   ]
  },
  {
   "cell_type": "code",
   "execution_count": 4,
   "metadata": {},
   "outputs": [],
   "source": [
    "\n",
    "table_format = \"psql\" # plain, html, grid, github, \n",
    "def extract_observations(doc, debug=False):\n",
    "        \n",
    "    S_COLLECT_OBSERVATION = 0\n",
    "    S_START_OBSERVATION = 1\n",
    "    S_INIT = -1\n",
    "    state = S_INIT \n",
    "    obs = None \n",
    "    obs_val = None \n",
    "    obs_unit = None \n",
    "    table = []\n",
    "    observations = []\n",
    "    for n in doc:\n",
    "        table.append([n.text, n.ent_iob_, n.ent_type_ , n.ent_id_, n.pos_, n.tag_])\n",
    "        ent = n.ent_iob_ \n",
    "        ent_type = n.ent_type_ \n",
    "        ent_id = n.ent_id_ \n",
    "        if \"B\" == ent and \"OBSERVATION\" == ent_type: \n",
    "            state = S_START_OBSERVATION\n",
    "            if obs:\n",
    "                if debug : \n",
    "                    print(f\"Previous was {obs} = {obs_val} {obs_unit}\") \n",
    "                observations.append([obs, obs_val, obs_unit])\n",
    "\n",
    "            obs = ent_id\n",
    "            \n",
    "            obs_val = None\n",
    "            obs_unit = None \n",
    "            if debug : \n",
    "                print(f\"Start observation {obs}\")\n",
    "        elif \"I\" == ent: \n",
    "            state = S_START_OBSERVATION\n",
    "        else:\n",
    "            if state == S_START_OBSERVATION:\n",
    "                state = S_COLLECT_OBSERVATION\n",
    "                if debug: \n",
    "                    print(f\"Collect obs {obs}\")\n",
    "                if \"NUM\" == n.pos_:\n",
    "                    obs_val = n.text\n",
    "                if \"UNIT\" == ent_type:\n",
    "                    obs_unit = n.text\n",
    "\n",
    "            elif state == S_COLLECT_OBSERVATION:\n",
    "                if debug: \n",
    "                    print(f\"Collect obs {obs}\")\n",
    "                if \"NUM\" == n.pos_: \n",
    "                    obs_val = n.text\n",
    "                if \"UNIT\" == ent_type:\n",
    "                    obs_unit = n.text\n",
    "\n",
    "    observations.append([obs, obs_val, obs_unit])\n",
    "    return [observations, table]\n"
   ]
  },
  {
   "cell_type": "code",
   "execution_count": 16,
   "metadata": {},
   "outputs": [],
   "source": [
    "def write_results(result, PRINT_OBSERVATIONS=True, PRINT_NLP_TABLE=True):\n",
    "    observations = result[0]\n",
    "    table = result[1] \n",
    "\n",
    "    if PRINT_OBSERVATIONS: \n",
    "        print(tabulate(observations, headers=[\"ID\", \"VALUE\", \"UNIT\"], tablefmt=table_format))\n",
    "\n",
    "    if PRINT_NLP_TABLE: \n",
    "        print(tabulate(table, headers=[\"Text\", \"Ent\", \"Type\", \"Pos\", \"Speech\", \"Speech details\"], tablefmt=table_format))\n",
    "\n"
   ]
  },
  {
   "cell_type": "code",
   "execution_count": 17,
   "metadata": {},
   "outputs": [
    {
     "name": "stdout",
     "output_type": "stream",
     "text": "+----------------+---------+--------+\n| ID             |   VALUE | UNIT   |\n|----------------+---------+--------|\n| PULSE          |      72 |        |\n| BLOOD_PRESSURE |         | mmHg   |\n| BODY_TEMP      |      38 |        |\n| RESP           |      45 |        |\n+----------------+---------+--------+\n"
    }
   ],
   "source": [
    "\n",
    "doc = nlp(\"Puls: 72 regelmessig. BP 120/80 mmHg. Temp 38 C. Resp. 45.  Smerte i venstre skulder. Redd for å dø. Ernæring må passes på.\")\n",
    "result = extract_observations(doc, False)\n",
    "write_results(result, True, False) "
   ]
  },
  {
   "cell_type": "code",
   "execution_count": 18,
   "metadata": {},
   "outputs": [
    {
     "name": "stdout",
     "output_type": "stream",
     "text": "+----------------+---------+--------+\n| ID             |   VALUE | UNIT   |\n|----------------+---------+--------|\n| PULSE          |      72 |        |\n| BLOOD_PRESSURE |         | mmHg   |\n| BODY_TEMP      |      38 |        |\n| RESP           |      45 |        |\n+----------------+---------+--------+\n"
    }
   ],
   "source": [
    "doc = nlp(\"Puls: 72 regelmessig. BP 120/80 mmHg. Temp 38 C. Resp. 45. \")\n",
    "result = extract_observations(doc, False)\n",
    "write_results(result, True, False) "
   ]
  },
  {
   "cell_type": "code",
   "execution_count": 10,
   "metadata": {},
   "outputs": [
    {
     "data": {
      "text/plain": "'proper noun'"
     },
     "execution_count": 10,
     "metadata": {},
     "output_type": "execute_result"
    }
   ],
   "source": [
    "spacy.explain(\"PROPN\")"
   ]
  }
 ]
}